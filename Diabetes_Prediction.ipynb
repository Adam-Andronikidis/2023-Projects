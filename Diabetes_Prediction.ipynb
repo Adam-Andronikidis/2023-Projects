{
 "cells": [
  {
   "cell_type": "markdown",
   "metadata": {
    "id": "HX91XLshxcv5"
   },
   "source": [
    "<h1> Diabetes prediction </h1>\n",
    "\n",
    "**Important Risk Factors**\n",
    "\n",
    "Research in the field has identified the following as important risk factors for diabetes and other chronic illnesses like heart disease (not in strict order of importance):\n",
    "\n",
    "-     blood pressure (high)\n",
    "-     cholesterol (high)\n",
    "-     smoking\n",
    "-     diabetes\n",
    "-     obesity\n",
    "-     age\n",
    "-     sex\n",
    "-     race\n",
    "-     diet\n",
    "-     exercise\n",
    "-     alcohol consumption\n",
    "-     BMI\n",
    "-     Household Income\n",
    "-     Marital Status\n",
    "-     Sleep\n",
    "-     Time since last checkup\n",
    "-     Education\n",
    "-     Health care coverage\n",
    "-     Mental Health\n",
    "\n",
    "\n",
    "\n",
    "---\n",
    "\n",
    "<h2>Imports</h2>"
   ]
  },
  {
   "cell_type": "code",
   "execution_count": 1,
   "metadata": {
    "id": "qMutpFycdZk4",
    "scrolled": false
   },
   "outputs": [],
   "source": [
    "import pandas as pd\n",
    "import numpy as np\n",
    "import seaborn as sns\n",
    "import matplotlib.pyplot as plt\n",
    "%matplotlib inline\n",
    "\n",
    "## For statistical test\n",
    "from scipy.stats import chisquare, chi2_contingency ## Stastical test\n",
    "from scipy.stats import probplot\n",
    "from scipy import stats\n",
    "from sklearn.feature_selection import SelectKBest\n",
    "from sklearn.feature_selection import chi2\n",
    "\n",
    "\n",
    "## machine learning libary\n",
    "from sklearn.model_selection import train_test_split, StratifiedKFold\n",
    "from sklearn.metrics import roc_auc_score, classification_report, confusion_matrix, precision_recall_fscore_support,roc_curve\n",
    "from lightgbm import LGBMClassifier\n",
    "from xgboost import XGBClassifier\n",
    "from sklearn.ensemble import RandomForestClassifier, GradientBoostingClassifier\n",
    "from sklearn.tree import DecisionTreeClassifier, ExtraTreeClassifier\n",
    "from sklearn.linear_model import LogisticRegression, RidgeClassifier\n",
    "from sklearn.naive_bayes import GaussianNB\n",
    "from sklearn.svm import SVC \n",
    "\n",
    "from sklearn.model_selection import train_test_split\n",
    "from sklearn.metrics import roc_auc_score"
   ]
  },
  {
   "cell_type": "code",
   "execution_count": 2,
   "metadata": {
    "id": "rTEM6LYl5aYz"
   },
   "outputs": [],
   "source": [
    "data = pd.read_csv(\"diabetes_012_health_indicators_BRFSS2015.csv\")"
   ]
  },
  {
   "cell_type": "code",
   "execution_count": 3,
   "metadata": {
    "id": "K5Ff2YfK86Em"
   },
   "outputs": [],
   "source": [
    "data = data[data['Age'] > 3.0].reset_index()\n",
    "data[\"Diabetes_binary\"] = np.where(data['Diabetes_012']== 0.0, 0.0, 1.0)\n",
    "data.drop(columns=[\"Diabetes_012\"],inplace = True)"
   ]
  },
  {
   "cell_type": "code",
   "execution_count": 4,
   "metadata": {
    "colab": {
     "base_uri": "https://localhost:8080/",
     "height": 299
    },
    "id": "NS3CX64s86vD",
    "outputId": "a3444d71-f39f-4cbc-a7e8-b5ffa7063835"
   },
   "outputs": [
    {
     "data": {
      "text/html": [
       "<div>\n",
       "<style scoped>\n",
       "    .dataframe tbody tr th:only-of-type {\n",
       "        vertical-align: middle;\n",
       "    }\n",
       "\n",
       "    .dataframe tbody tr th {\n",
       "        vertical-align: top;\n",
       "    }\n",
       "\n",
       "    .dataframe thead th {\n",
       "        text-align: right;\n",
       "    }\n",
       "</style>\n",
       "<table border=\"1\" class=\"dataframe\">\n",
       "  <thead>\n",
       "    <tr style=\"text-align: right;\">\n",
       "      <th></th>\n",
       "      <th>index</th>\n",
       "      <th>HighBP</th>\n",
       "      <th>HighChol</th>\n",
       "      <th>CholCheck</th>\n",
       "      <th>BMI</th>\n",
       "      <th>Smoker</th>\n",
       "      <th>Stroke</th>\n",
       "      <th>HeartDiseaseorAttack</th>\n",
       "      <th>PhysActivity</th>\n",
       "      <th>Fruits</th>\n",
       "      <th>...</th>\n",
       "      <th>NoDocbcCost</th>\n",
       "      <th>GenHlth</th>\n",
       "      <th>MentHlth</th>\n",
       "      <th>PhysHlth</th>\n",
       "      <th>DiffWalk</th>\n",
       "      <th>Sex</th>\n",
       "      <th>Age</th>\n",
       "      <th>Education</th>\n",
       "      <th>Income</th>\n",
       "      <th>Diabetes_binary</th>\n",
       "    </tr>\n",
       "  </thead>\n",
       "  <tbody>\n",
       "    <tr>\n",
       "      <th>0</th>\n",
       "      <td>0</td>\n",
       "      <td>1.0</td>\n",
       "      <td>1.0</td>\n",
       "      <td>1.0</td>\n",
       "      <td>40.0</td>\n",
       "      <td>1.0</td>\n",
       "      <td>0.0</td>\n",
       "      <td>0.0</td>\n",
       "      <td>0.0</td>\n",
       "      <td>0.0</td>\n",
       "      <td>...</td>\n",
       "      <td>0.0</td>\n",
       "      <td>5.0</td>\n",
       "      <td>18.0</td>\n",
       "      <td>15.0</td>\n",
       "      <td>1.0</td>\n",
       "      <td>0.0</td>\n",
       "      <td>9.0</td>\n",
       "      <td>4.0</td>\n",
       "      <td>3.0</td>\n",
       "      <td>0.0</td>\n",
       "    </tr>\n",
       "    <tr>\n",
       "      <th>1</th>\n",
       "      <td>1</td>\n",
       "      <td>0.0</td>\n",
       "      <td>0.0</td>\n",
       "      <td>0.0</td>\n",
       "      <td>25.0</td>\n",
       "      <td>1.0</td>\n",
       "      <td>0.0</td>\n",
       "      <td>0.0</td>\n",
       "      <td>1.0</td>\n",
       "      <td>0.0</td>\n",
       "      <td>...</td>\n",
       "      <td>1.0</td>\n",
       "      <td>3.0</td>\n",
       "      <td>0.0</td>\n",
       "      <td>0.0</td>\n",
       "      <td>0.0</td>\n",
       "      <td>0.0</td>\n",
       "      <td>7.0</td>\n",
       "      <td>6.0</td>\n",
       "      <td>1.0</td>\n",
       "      <td>0.0</td>\n",
       "    </tr>\n",
       "    <tr>\n",
       "      <th>2</th>\n",
       "      <td>2</td>\n",
       "      <td>1.0</td>\n",
       "      <td>1.0</td>\n",
       "      <td>1.0</td>\n",
       "      <td>28.0</td>\n",
       "      <td>0.0</td>\n",
       "      <td>0.0</td>\n",
       "      <td>0.0</td>\n",
       "      <td>0.0</td>\n",
       "      <td>1.0</td>\n",
       "      <td>...</td>\n",
       "      <td>1.0</td>\n",
       "      <td>5.0</td>\n",
       "      <td>30.0</td>\n",
       "      <td>30.0</td>\n",
       "      <td>1.0</td>\n",
       "      <td>0.0</td>\n",
       "      <td>9.0</td>\n",
       "      <td>4.0</td>\n",
       "      <td>8.0</td>\n",
       "      <td>0.0</td>\n",
       "    </tr>\n",
       "    <tr>\n",
       "      <th>3</th>\n",
       "      <td>3</td>\n",
       "      <td>1.0</td>\n",
       "      <td>0.0</td>\n",
       "      <td>1.0</td>\n",
       "      <td>27.0</td>\n",
       "      <td>0.0</td>\n",
       "      <td>0.0</td>\n",
       "      <td>0.0</td>\n",
       "      <td>1.0</td>\n",
       "      <td>1.0</td>\n",
       "      <td>...</td>\n",
       "      <td>0.0</td>\n",
       "      <td>2.0</td>\n",
       "      <td>0.0</td>\n",
       "      <td>0.0</td>\n",
       "      <td>0.0</td>\n",
       "      <td>0.0</td>\n",
       "      <td>11.0</td>\n",
       "      <td>3.0</td>\n",
       "      <td>6.0</td>\n",
       "      <td>0.0</td>\n",
       "    </tr>\n",
       "    <tr>\n",
       "      <th>4</th>\n",
       "      <td>4</td>\n",
       "      <td>1.0</td>\n",
       "      <td>1.0</td>\n",
       "      <td>1.0</td>\n",
       "      <td>24.0</td>\n",
       "      <td>0.0</td>\n",
       "      <td>0.0</td>\n",
       "      <td>0.0</td>\n",
       "      <td>1.0</td>\n",
       "      <td>1.0</td>\n",
       "      <td>...</td>\n",
       "      <td>0.0</td>\n",
       "      <td>2.0</td>\n",
       "      <td>3.0</td>\n",
       "      <td>0.0</td>\n",
       "      <td>0.0</td>\n",
       "      <td>0.0</td>\n",
       "      <td>11.0</td>\n",
       "      <td>5.0</td>\n",
       "      <td>4.0</td>\n",
       "      <td>0.0</td>\n",
       "    </tr>\n",
       "  </tbody>\n",
       "</table>\n",
       "<p>5 rows × 23 columns</p>\n",
       "</div>"
      ],
      "text/plain": [
       "   index  HighBP  HighChol  CholCheck   BMI  Smoker  Stroke  \\\n",
       "0      0     1.0       1.0        1.0  40.0     1.0     0.0   \n",
       "1      1     0.0       0.0        0.0  25.0     1.0     0.0   \n",
       "2      2     1.0       1.0        1.0  28.0     0.0     0.0   \n",
       "3      3     1.0       0.0        1.0  27.0     0.0     0.0   \n",
       "4      4     1.0       1.0        1.0  24.0     0.0     0.0   \n",
       "\n",
       "   HeartDiseaseorAttack  PhysActivity  Fruits  ...  NoDocbcCost  GenHlth  \\\n",
       "0                   0.0           0.0     0.0  ...          0.0      5.0   \n",
       "1                   0.0           1.0     0.0  ...          1.0      3.0   \n",
       "2                   0.0           0.0     1.0  ...          1.0      5.0   \n",
       "3                   0.0           1.0     1.0  ...          0.0      2.0   \n",
       "4                   0.0           1.0     1.0  ...          0.0      2.0   \n",
       "\n",
       "   MentHlth  PhysHlth  DiffWalk  Sex   Age  Education  Income  Diabetes_binary  \n",
       "0      18.0      15.0       1.0  0.0   9.0        4.0     3.0              0.0  \n",
       "1       0.0       0.0       0.0  0.0   7.0        6.0     1.0              0.0  \n",
       "2      30.0      30.0       1.0  0.0   9.0        4.0     8.0              0.0  \n",
       "3       0.0       0.0       0.0  0.0  11.0        3.0     6.0              0.0  \n",
       "4       3.0       0.0       0.0  0.0  11.0        5.0     4.0              0.0  \n",
       "\n",
       "[5 rows x 23 columns]"
      ]
     },
     "execution_count": 4,
     "metadata": {},
     "output_type": "execute_result"
    }
   ],
   "source": [
    "data.head()"
   ]
  },
  {
   "cell_type": "code",
   "execution_count": 5,
   "metadata": {
    "colab": {
     "base_uri": "https://localhost:8080/",
     "height": 0
    },
    "id": "7eWg1wVo88wK",
    "outputId": "8fb3e26d-7a9f-4a66-813f-f31921cc340e"
   },
   "outputs": [
    {
     "name": "stdout",
     "output_type": "stream",
     "text": [
      "<class 'pandas.core.frame.DataFrame'>\n",
      "RangeIndex: 229259 entries, 0 to 229258\n",
      "Data columns (total 23 columns):\n",
      " #   Column                Non-Null Count   Dtype  \n",
      "---  ------                --------------   -----  \n",
      " 0   index                 229259 non-null  int64  \n",
      " 1   HighBP                229259 non-null  float64\n",
      " 2   HighChol              229259 non-null  float64\n",
      " 3   CholCheck             229259 non-null  float64\n",
      " 4   BMI                   229259 non-null  float64\n",
      " 5   Smoker                229259 non-null  float64\n",
      " 6   Stroke                229259 non-null  float64\n",
      " 7   HeartDiseaseorAttack  229259 non-null  float64\n",
      " 8   PhysActivity          229259 non-null  float64\n",
      " 9   Fruits                229259 non-null  float64\n",
      " 10  Veggies               229259 non-null  float64\n",
      " 11  HvyAlcoholConsump     229259 non-null  float64\n",
      " 12  AnyHealthcare         229259 non-null  float64\n",
      " 13  NoDocbcCost           229259 non-null  float64\n",
      " 14  GenHlth               229259 non-null  float64\n",
      " 15  MentHlth              229259 non-null  float64\n",
      " 16  PhysHlth              229259 non-null  float64\n",
      " 17  DiffWalk              229259 non-null  float64\n",
      " 18  Sex                   229259 non-null  float64\n",
      " 19  Age                   229259 non-null  float64\n",
      " 20  Education             229259 non-null  float64\n",
      " 21  Income                229259 non-null  float64\n",
      " 22  Diabetes_binary       229259 non-null  float64\n",
      "dtypes: float64(22), int64(1)\n",
      "memory usage: 40.2 MB\n"
     ]
    }
   ],
   "source": [
    "data.info()"
   ]
  },
  {
   "cell_type": "code",
   "execution_count": 6,
   "metadata": {
    "colab": {
     "base_uri": "https://localhost:8080/",
     "height": 0
    },
    "id": "Hwlf2ZvQ9ACS",
    "outputId": "730c647d-b35c-47ab-f93e-3eced4210df1"
   },
   "outputs": [
    {
     "data": {
      "text/plain": [
       "False"
      ]
     },
     "execution_count": 6,
     "metadata": {},
     "output_type": "execute_result"
    }
   ],
   "source": [
    "data.isnull().sum().any()"
   ]
  },
  {
   "cell_type": "markdown",
   "metadata": {
    "id": "QyLCeodUAN5Q"
   },
   "source": [
    "<h2>Exploratory data analysis (descriptive analysis)</h2>"
   ]
  },
  {
   "cell_type": "code",
   "execution_count": 7,
   "metadata": {
    "colab": {
     "base_uri": "https://localhost:8080/",
     "height": 271
    },
    "id": "HiTqMp6m9CHB",
    "outputId": "3667cd7e-858b-4426-8058-d52bfdfde923"
   },
   "outputs": [
    {
     "data": {
      "image/png": "[encoded data removed]",
      "text/plain": [
       "<Figure size 640x480 with 1 Axes>"
      ]
     },
     "metadata": {},
     "output_type": "display_data"
    }
   ],
   "source": [
    "data['Diabetes_binary'].value_counts(normalize=True).plot(kind='bar');"
   ]
  },
  {
   "cell_type": "markdown",
   "metadata": {
    "id": "xVeBBFiiAUbe"
   },
   "source": [
    "Observation:\n",
    "\n",
    "*we observe that less than 20% of the patient are with diabetes.*"
   ]
  },
  {
   "cell_type": "code",
   "execution_count": 8,
   "metadata": {
    "colab": {
     "base_uri": "https://localhost:8080/",
     "height": 271
    },
    "id": "nsKoirI39LOS",
    "outputId": "12a40a39-1c86-458b-a5f8-7d178c1f7718"
   },
   "outputs": [
    {
     "data": {
      "image/png": "[encoded data removed]",
      "text/plain": [
       "<Figure size 640x480 with 1 Axes>"
      ]
     },
     "metadata": {},
     "output_type": "display_data"
    }
   ],
   "source": [
    "data['Sex'].value_counts().plot(kind='bar');"
   ]
  },
  {
   "cell_type": "markdown",
   "metadata": {
    "id": "sezjWs8fAcwn"
   },
   "source": [
    "Observation:\n",
    "\n",
    "*we have more female than male.*"
   ]
  },
  {
   "cell_type": "code",
   "execution_count": 9,
   "metadata": {
    "colab": {
     "base_uri": "https://localhost:8080/",
     "height": 272
    },
    "id": "T9EciO98AbjQ",
    "outputId": "f4d3b66b-1211-42eb-cdf0-9e104b9dd9de"
   },
   "outputs": [
    {
     "data": {
      "image/png": "[encoded data removed]",
      "text/plain": [
       "<Figure size 640x480 with 1 Axes>"
      ]
     },
     "metadata": {},
     "output_type": "display_data"
    }
   ],
   "source": [
    "data['Education'].value_counts().plot(kind='bar');"
   ]
  },
  {
   "cell_type": "markdown",
   "metadata": {
    "id": "J1InizNUAnU9"
   },
   "source": [
    "Observation:\n",
    "\n",
    "*A lot of the Respondents are educated.*"
   ]
  },
  {
   "cell_type": "code",
   "execution_count": 10,
   "metadata": {
    "colab": {
     "base_uri": "https://localhost:8080/",
     "height": 271
    },
    "id": "Oq9q82CZAg1s",
    "outputId": "432ed0c2-c05a-46af-d4d1-6ff6bbaf3923"
   },
   "outputs": [
    {
     "data": {
      "image/png": "[encoded data removed]",
      "text/plain": [
       "<Figure size 640x480 with 1 Axes>"
      ]
     },
     "metadata": {},
     "output_type": "display_data"
    }
   ],
   "source": [
    "data['HighChol'].value_counts(normalize=True).plot(kind='bar');"
   ]
  },
  {
   "cell_type": "markdown",
   "metadata": {
    "id": "hxO46RkOAruj"
   },
   "source": [
    "Observation:\n",
    "\n",
    "*About 45% of the Respondents have been told they have high cholesterol.*"
   ]
  },
  {
   "cell_type": "code",
   "execution_count": 11,
   "metadata": {
    "colab": {
     "base_uri": "https://localhost:8080/",
     "height": 271
    },
    "id": "Kh_3rPyGAkvK",
    "outputId": "8e5de452-064c-4f25-cdcf-4d909139d7ca"
   },
   "outputs": [
    {
     "data": {
      "image/png": "[encoded data removed]",
      "text/plain": [
       "<Figure size 640x480 with 1 Axes>"
      ]
     },
     "metadata": {},
     "output_type": "display_data"
    }
   ],
   "source": [
    "data['HighBP'].value_counts(normalize=True).plot(kind='bar');"
   ]
  },
  {
   "cell_type": "markdown",
   "metadata": {
    "id": "056FwE9iA0Bm"
   },
   "source": [
    "Observation:\n",
    "\n",
    "*About 45% of the Respondents have been told they have high blood pressure.*"
   ]
  },
  {
   "cell_type": "code",
   "execution_count": 12,
   "metadata": {
    "colab": {
     "base_uri": "https://localhost:8080/",
     "height": 265
    },
    "id": "ucj3o5eSAvVQ",
    "outputId": "46ead760-2a8c-4e24-ad24-63c132cabc5a"
   },
   "outputs": [
    {
     "data": {
      "image/png": "[encoded data removed]",
      "text/plain": [
       "<Figure size 640x480 with 1 Axes>"
      ]
     },
     "metadata": {},
     "output_type": "display_data"
    }
   ],
   "source": [
    "plt.hist(data['BMI'], bins=10);"
   ]
  },
  {
   "cell_type": "markdown",
   "metadata": {
    "id": "Oidb8pk4A4eo"
   },
   "source": [
    "Observation:\n",
    "\n",
    "*A lot of Respondent BMI falls between the 20-30 range*"
   ]
  },
  {
   "cell_type": "code",
   "execution_count": 13,
   "metadata": {
    "colab": {
     "base_uri": "https://localhost:8080/",
     "height": 279
    },
    "id": "FsTZiN2LA3zl",
    "outputId": "ae44d8d4-2281-49d6-dd82-c395b42161e7"
   },
   "outputs": [
    {
     "data": {
      "image/png": "[encoded data removed]",
      "text/plain": [
       "<Figure size 640x480 with 2 Axes>"
      ]
     },
     "metadata": {},
     "output_type": "display_data"
    }
   ],
   "source": [
    "sns.heatmap(pd.crosstab(data['Diabetes_binary'], data['Sex']), annot=True);"
   ]
  },
  {
   "cell_type": "markdown",
   "metadata": {
    "id": "ErbWaR8HBF8R"
   },
   "source": [
    "Observation:\n",
    "\n",
    "*The Gender respondents with diabetes seems not balanced, we have more females yet there are more males diabetic in this dataset.*"
   ]
  },
  {
   "cell_type": "code",
   "execution_count": 14,
   "metadata": {
    "colab": {
     "base_uri": "https://localhost:8080/",
     "height": 279
    },
    "id": "Sweh6M0KA81I",
    "outputId": "d1432b2e-7705-4e5b-f109-c5afe818dded"
   },
   "outputs": [
    {
     "data": {
      "image/png": "[encoded data removed]",
      "text/plain": [
       "<Figure size 640x480 with 1 Axes>"
      ]
     },
     "metadata": {},
     "output_type": "display_data"
    }
   ],
   "source": [
    "sns.countplot(x='Education', hue='Diabetes_binary', data=data);"
   ]
  },
  {
   "cell_type": "markdown",
   "metadata": {
    "id": "CaiGQklsDeKF"
   },
   "source": [
    "Observation:\n",
    "\n",
    "*The Education level of the respondent is not really determining if the patient has diabetes.*"
   ]
  },
  {
   "cell_type": "markdown",
   "metadata": {
    "id": "FmekSqMrFCsC"
   },
   "source": [
    "<h2>Machine Learning model</h2>"
   ]
  },
  {
   "cell_type": "code",
   "execution_count": 15,
   "metadata": {
    "id": "nyU9OyAGE8iw"
   },
   "outputs": [],
   "source": [
    "X = data.drop('Diabetes_binary', axis=1)\n",
    "y = data['Diabetes_binary']"
   ]
  },
  {
   "cell_type": "code",
   "execution_count": 16,
   "metadata": {
    "colab": {
     "base_uri": "https://localhost:8080/",
     "height": 0
    },
    "id": "ECfSi-3dFF6F",
    "outputId": "66f750bd-7021-4303-9fc9-57bcff00fea2"
   },
   "outputs": [
    {
     "data": {
      "text/plain": [
       "0.0    82.858688\n",
       "1.0    17.141312\n",
       "Name: Diabetes_binary, dtype: float64"
      ]
     },
     "execution_count": 16,
     "metadata": {},
     "output_type": "execute_result"
    }
   ],
   "source": [
    "y.value_counts(normalize=True) * 100"
   ]
  },
  {
   "cell_type": "code",
   "execution_count": 17,
   "metadata": {
    "id": "CRftr91cFHGV"
   },
   "outputs": [],
   "source": [
    "# Separating the 80% data for training data and 20% for testing data\n",
    "X_train, X_test, y_train, y_test = train_test_split(X,y,test_size = 0.2, random_state =3, stratify=y)"
   ]
  },
  {
   "cell_type": "code",
   "execution_count": 18,
   "metadata": {
    "colab": {
     "base_uri": "https://localhost:8080/",
     "height": 0
    },
    "id": "wcIDEzRQFJP4",
    "outputId": "39e41ae3-7686-48e2-db72-fd728ca15ba3"
   },
   "outputs": [
    {
     "name": "stdout",
     "output_type": "stream",
     "text": [
      "Shape of the X_train (183407, 22)\n",
      "Shape of the y_train (183407,)\n",
      "Shape of the X_test (45852, 22)\n",
      "Shape of the y_test (45852,)\n"
     ]
    }
   ],
   "source": [
    "print('Shape of the X_train {}'.format(X_train.shape))\n",
    "print('Shape of the y_train {}'.format(y_train.shape))\n",
    "print('Shape of the X_test {}'.format(X_test.shape))\n",
    "print('Shape of the y_test {}'.format(y_test.shape))"
   ]
  },
  {
   "cell_type": "code",
   "execution_count": 19,
   "metadata": {
    "id": "RXYWYf2nFKov"
   },
   "outputs": [],
   "source": [
    "algos = [LogisticRegression(), \n",
    "         GaussianNB(),\n",
    "         ExtraTreeClassifier(max_depth=5),\n",
    "        RandomForestClassifier(max_depth=5,n_estimators=1000, max_features='auto', class_weight='balanced'),\n",
    "        DecisionTreeClassifier(max_depth=5),\n",
    "        LGBMClassifier(n_estimators=500),\n",
    "         XGBClassifier(max_depth=4, n_estimators=500),]\n",
    "\n",
    "names = ['Logistic_Regression','Guassian','ExtraTree','RandomForest','Decision_Tree', 'Lightgbm', 'Xgboost']\n",
    "roc_list = []"
   ]
  },
  {
   "cell_type": "code",
   "execution_count": 20,
   "metadata": {
    "colab": {
     "base_uri": "https://localhost:8080/",
     "height": 0
    },
    "id": "z2pUvRRsFR6P",
    "outputId": "4dda13f5-68d5-4d1c-c961-e616fbc05151"
   },
   "outputs": [],
   "source": [
    "for name in algos:\n",
    "    model = name\n",
    "    model.fit(X_train,y_train)\n",
    "    y_pred = model.predict_proba(X_test)[:,1]\n",
    "    score= roc_auc_score(y_test,y_pred)\n",
    "    roc_list.append(score)"
   ]
  },
  {
   "cell_type": "code",
   "execution_count": 21,
   "metadata": {
    "id": "j3gq5jBZFT4V"
   },
   "outputs": [],
   "source": [
    "evaluation = pd.DataFrame({'Model': names,\n",
    "                           'Score': roc_list})"
   ]
  },
  {
   "cell_type": "code",
   "execution_count": 22,
   "metadata": {
    "id": "hRPRcBpqGJCS"
   },
   "outputs": [],
   "source": [
    "evaluation = evaluation.sort_values(by='Score', ascending=False)"
   ]
  },
  {
   "cell_type": "code",
   "execution_count": 23,
   "metadata": {
    "colab": {
     "base_uri": "https://localhost:8080/",
     "height": 269
    },
    "id": "OqMiKsHrGK2a",
    "outputId": "ac9d386b-793a-4fa5-f634-7da67dc63e98"
   },
   "outputs": [
    {
     "data": {
      "text/html": [
       "<div>\n",
       "<style scoped>\n",
       "    .dataframe tbody tr th:only-of-type {\n",
       "        vertical-align: middle;\n",
       "    }\n",
       "\n",
       "    .dataframe tbody tr th {\n",
       "        vertical-align: top;\n",
       "    }\n",
       "\n",
       "    .dataframe thead th {\n",
       "        text-align: right;\n",
       "    }\n",
       "</style>\n",
       "<table border=\"1\" class=\"dataframe\">\n",
       "  <thead>\n",
       "    <tr style=\"text-align: right;\">\n",
       "      <th></th>\n",
       "      <th>Model</th>\n",
       "      <th>Score</th>\n",
       "    </tr>\n",
       "  </thead>\n",
       "  <tbody>\n",
       "    <tr>\n",
       "      <th>5</th>\n",
       "      <td>Lightgbm</td>\n",
       "      <td>0.812269</td>\n",
       "    </tr>\n",
       "    <tr>\n",
       "      <th>6</th>\n",
       "      <td>Xgboost</td>\n",
       "      <td>0.809846</td>\n",
       "    </tr>\n",
       "    <tr>\n",
       "      <th>3</th>\n",
       "      <td>RandomForest</td>\n",
       "      <td>0.803838</td>\n",
       "    </tr>\n",
       "    <tr>\n",
       "      <th>4</th>\n",
       "      <td>Decision_Tree</td>\n",
       "      <td>0.791874</td>\n",
       "    </tr>\n",
       "    <tr>\n",
       "      <th>1</th>\n",
       "      <td>Guassian</td>\n",
       "      <td>0.746481</td>\n",
       "    </tr>\n",
       "    <tr>\n",
       "      <th>2</th>\n",
       "      <td>ExtraTree</td>\n",
       "      <td>0.719351</td>\n",
       "    </tr>\n",
       "    <tr>\n",
       "      <th>0</th>\n",
       "      <td>Logistic_Regression</td>\n",
       "      <td>0.682426</td>\n",
       "    </tr>\n",
       "  </tbody>\n",
       "</table>\n",
       "</div>"
      ],
      "text/plain": [
       "                 Model     Score\n",
       "5             Lightgbm  0.812269\n",
       "6              Xgboost  0.809846\n",
       "3         RandomForest  0.803838\n",
       "4        Decision_Tree  0.791874\n",
       "1             Guassian  0.746481\n",
       "2            ExtraTree  0.719351\n",
       "0  Logistic_Regression  0.682426"
      ]
     },
     "execution_count": 23,
     "metadata": {},
     "output_type": "execute_result"
    }
   ],
   "source": [
    "evaluation"
   ]
  },
  {
   "cell_type": "markdown",
   "metadata": {
    "id": "fJE1095Wy6Vb"
   },
   "source": [
    "<h2>Conclusion</h2>\n",
    "\n",
    "After the intial training of the models, we can lift these using for example the pickle library and use them to predict and warn people that might be diabetic."
   ]
  }
 ],
 "metadata": {
  "colab": {
   "provenance": []
  },
  "kernelspec": {
   "display_name": "Python 3 (ipykernel)",
   "language": "python",
   "name": "python3"
  },
  "language_info": {
   "codemirror_mode": {
    "name": "ipython",
    "version": 3
   },
   "file_extension": ".py",
   "mimetype": "text/x-python",
   "name": "python",
   "nbconvert_exporter": "python",
   "pygments_lexer": "ipython3",
   "version": "3.9.13"
  }
 },
 "nbformat": 4,
 "nbformat_minor": 1
}
